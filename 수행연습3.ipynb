{
  "nbformat": 4,
  "nbformat_minor": 0,
  "metadata": {
    "colab": {
      "provenance": [],
      "authorship_tag": "ABX9TyNCl/2RfvHhbMFs+JVaENWH",
      "include_colab_link": true
    },
    "kernelspec": {
      "name": "python3",
      "display_name": "Python 3"
    },
    "language_info": {
      "name": "python"
    }
  },
  "cells": [
    {
      "cell_type": "markdown",
      "metadata": {
        "id": "view-in-github",
        "colab_type": "text"
      },
      "source": [
        "<a href=\"https://colab.research.google.com/github/JoHanGyun/homework/blob/main/%EC%88%98%ED%96%89%EC%97%B0%EC%8A%B53.ipynb\" target=\"_parent\"><img src=\"https://colab.research.google.com/assets/colab-badge.svg\" alt=\"Open In Colab\"/></a>"
      ]
    },
    {
      "cell_type": "code",
      "execution_count": null,
      "metadata": {
        "colab": {
          "base_uri": "https://localhost:8080/"
        },
        "id": "rXKOD4gNTs6B",
        "outputId": "9f8c8b69-fc45-4853-d642-75ef74fd6056"
      },
      "outputs": [
        {
          "output_type": "stream",
          "name": "stdout",
          "text": [
            "I said \"Hello\" to you\n",
            "Let's go.\n"
          ]
        }
      ],
      "source": [
        "print('I said \"Hello\" to you')\n",
        "print(\"Let's go.\")"
      ]
    },
    {
      "cell_type": "code",
      "source": [
        "a=int(input(\"삼각형의 밑변 길이:\"))\n",
        "b=int(input(\"삼각형의 높이:\"))\n",
        "s=a*b*(1/2)\n",
        "print(\"삼각형의 면적:%.1f\"%(s))"
      ],
      "metadata": {
        "colab": {
          "base_uri": "https://localhost:8080/"
        },
        "id": "ZdW4L37rUL5H",
        "outputId": "39574b7c-9acf-4109-8d15-d39b34e1b94d"
      },
      "execution_count": null,
      "outputs": [
        {
          "output_type": "stream",
          "name": "stdout",
          "text": [
            "삼각형의 밑변 길이:10\n",
            "삼각형의 높이:3\n",
            "삼각형의 면적:15.0\n"
          ]
        }
      ]
    },
    {
      "cell_type": "code",
      "source": [
        "h=int(input(\"현재 시:\"))\n",
        "m=int(input(\"현재 분:\"))\n",
        "if m+20>60 and h<23:\n",
        "  h=h+1\n",
        "  m=m-40\n",
        "  print(\"20분 뒤에는\",h,\"시\",m, \"분 입니다.\") \n",
        "elif h==23 and m+20>60:\n",
        "  h=0\n",
        "  m=m-40\n",
        "  print(\"20분 뒤에는\",h,\"시\",m, \"분 입니다.\") \n",
        "else:\n",
        "  m=m+20\n",
        "  print(\"20분 뒤에는\",h,\"시\",m, \"분 입니다.\")    \n",
        "\n",
        "  "
      ],
      "metadata": {
        "colab": {
          "base_uri": "https://localhost:8080/"
        },
        "id": "jGQ0M6XMUuLe",
        "outputId": "4e1800e2-1b01-44e2-a836-4ee1bddd57b3"
      },
      "execution_count": null,
      "outputs": [
        {
          "output_type": "stream",
          "name": "stdout",
          "text": [
            "현재 시:13\n",
            "현재 분:55\n",
            "20분 뒤에는 14 시 15 분 입니다.\n"
          ]
        }
      ]
    },
    {
      "cell_type": "code",
      "source": [
        "a=int(input(\"숫자 입력:\"))\n",
        "if a>0:\n",
        "  print(a)\n",
        "else:\n",
        "  print(-a)"
      ],
      "metadata": {
        "colab": {
          "base_uri": "https://localhost:8080/"
        },
        "id": "xVYC1-3zYXP-",
        "outputId": "5b566d4b-509c-4c92-d315-1f9b4ceb0264"
      },
      "execution_count": null,
      "outputs": [
        {
          "output_type": "stream",
          "name": "stdout",
          "text": [
            "숫자 입력:-10\n",
            "10\n"
          ]
        }
      ]
    },
    {
      "cell_type": "code",
      "source": [
        "a=input(\"아이디를 입력하세요:\")\n",
        "b=int(input(\"회원 레벨을 입력하세요:\"))\n",
        "if a=='admin'or b==1:\n",
        "  print(\"관리자입니다.\")\n",
        "else:\n",
        "  print(\"관리자가 아닙니다.\")  "
      ],
      "metadata": {
        "colab": {
          "base_uri": "https://localhost:8080/"
        },
        "id": "5KjkZ67eee3i",
        "outputId": "24d3bca9-cc1f-47bc-eaad-8980b13f1308"
      },
      "execution_count": null,
      "outputs": [
        {
          "output_type": "stream",
          "name": "stdout",
          "text": [
            "아이디를 입력하세요:admin\n",
            "회원 레벨을 입력하세요:2\n",
            "관리자입니다.\n"
          ]
        }
      ]
    },
    {
      "cell_type": "code",
      "source": [
        "a=int(input(\"첫 번째수:\"))\n",
        "b=int(input(\"두 번째수:\"))\n",
        "c=int(input(\"세 번째수:\"))\n",
        "if a>b>c or a>c>b:\n",
        "  print(\"가장 큰 수는 \",a,\"입니다.\")\n",
        "elif b>c>a or b>a>c:\n",
        "  print(\"가장 큰 수는 \",b,\"입니다.\")  \n",
        "else:\n",
        "  print(\"가장 큰 수는 \",c,\"입니다.\")  "
      ],
      "metadata": {
        "colab": {
          "base_uri": "https://localhost:8080/"
        },
        "id": "X0MoELwpe-Bw",
        "outputId": "5f6c9b2b-cf02-4623-b5fe-f6b09cb25c1e"
      },
      "execution_count": null,
      "outputs": [
        {
          "output_type": "stream",
          "name": "stdout",
          "text": [
            "첫 번째수:10\n",
            "두 번째수:20\n",
            "세 번째수:30\n",
            "가장 큰 수는  30 입니다.\n"
          ]
        }
      ]
    },
    {
      "cell_type": "code",
      "source": [
        "a=int(input(\"나이 입력:\"))\n",
        "if a<=7 and a>0:\n",
        "  print(\"어린이\")\n",
        "elif a<=13 and a>=8:\n",
        "  print(\"초등학생\")  \n",
        "elif a<=16 and a>=14:\n",
        "  print(\"중학생\")\n",
        "elif a<=19 and a>=17:\n",
        "  print(\"고등학생\")\n",
        "else:\n",
        "  print(\"성인\")      "
      ],
      "metadata": {
        "colab": {
          "base_uri": "https://localhost:8080/"
        },
        "id": "MzWG4WBgfy2f",
        "outputId": "bbc53b61-fae7-464a-e7f1-19082856e377"
      },
      "execution_count": null,
      "outputs": [
        {
          "output_type": "stream",
          "name": "stdout",
          "text": [
            "나이 입력:17\n",
            "고등학생\n"
          ]
        }
      ]
    },
    {
      "cell_type": "code",
      "source": [
        "a=int(input(\"점수 입력:\"))\n",
        "if a>=90:\n",
        "  print(\"A등급입니다.\")\n",
        "elif a>=80:\n",
        "  print(\"B등급입니다.\")\n",
        "elif a>=70:\n",
        "  print(\"C등급입니다.\") \n",
        "else:\n",
        "  print(\"F등급입니다.\")  "
      ],
      "metadata": {
        "colab": {
          "base_uri": "https://localhost:8080/"
        },
        "id": "GS7-6NMxg_9n",
        "outputId": "0d053c54-d6f7-4e44-c6a0-ef926102325a"
      },
      "execution_count": null,
      "outputs": [
        {
          "output_type": "stream",
          "name": "stdout",
          "text": [
            "점수 입력:90\n",
            "A등급입니다.\n"
          ]
        }
      ]
    },
    {
      "cell_type": "code",
      "source": [
        "a=int(input(\"숫자 입력:\"))\n",
        "if(a%3==0):\n",
        "  if(a%5==0):\n",
        "    print(\"3과 5의 배수\")\n",
        "  else:\n",
        "    print(\"3의 배수\")\n",
        "else:\n",
        "  print(\"3의 배수 아님\")      "
      ],
      "metadata": {
        "colab": {
          "base_uri": "https://localhost:8080/"
        },
        "id": "kbuROuVAhlfi",
        "outputId": "c2f51701-2f40-43af-d158-1431cecfefd6"
      },
      "execution_count": null,
      "outputs": [
        {
          "output_type": "stream",
          "name": "stdout",
          "text": [
            "숫자 입력:15\n",
            "3과 5의 배수\n"
          ]
        }
      ]
    },
    {
      "cell_type": "code",
      "source": [
        "for i in range(1,21,2):\n",
        "  print(i,end=\" \")"
      ],
      "metadata": {
        "colab": {
          "base_uri": "https://localhost:8080/"
        },
        "id": "eNIgi1YTiEG0",
        "outputId": "a61f51c9-02be-463e-f47b-fc21ffee7c0a"
      },
      "execution_count": null,
      "outputs": [
        {
          "output_type": "stream",
          "name": "stdout",
          "text": [
            "1 3 5 7 9 11 13 15 17 19 "
          ]
        }
      ]
    },
    {
      "cell_type": "code",
      "source": [
        "s=0\n",
        "for i in range(1,11):\n",
        "  s+=i\n",
        "  print(\"num의 값:\",i,\"=> 합계:\",s) "
      ],
      "metadata": {
        "colab": {
          "base_uri": "https://localhost:8080/"
        },
        "id": "ufIh75oiidc8",
        "outputId": "02aa5852-d01d-42f6-faae-2b8461080171"
      },
      "execution_count": null,
      "outputs": [
        {
          "output_type": "stream",
          "name": "stdout",
          "text": [
            "num의 값: 1 => 합계: 1\n",
            "num의 값: 2 => 합계: 3\n",
            "num의 값: 3 => 합계: 6\n",
            "num의 값: 4 => 합계: 10\n",
            "num의 값: 5 => 합계: 15\n",
            "num의 값: 6 => 합계: 21\n",
            "num의 값: 7 => 합계: 28\n",
            "num의 값: 8 => 합계: 36\n",
            "num의 값: 9 => 합계: 45\n",
            "num의 값: 10 => 합계: 55\n"
          ]
        }
      ]
    },
    {
      "cell_type": "code",
      "source": [
        "f=1\n",
        "a=int(input(\"숫자 입력:\"))\n",
        "for i in range(1,1+a):\n",
        "  f=f*i\n",
        "print(a,\"!= \",f)\n"
      ],
      "metadata": {
        "colab": {
          "base_uri": "https://localhost:8080/"
        },
        "id": "Fx889ucejA5q",
        "outputId": "24eda4c5-169e-40b6-bd8a-69e51a6ad80d"
      },
      "execution_count": null,
      "outputs": [
        {
          "output_type": "stream",
          "name": "stdout",
          "text": [
            "숫자 입력:10\n",
            "10 !=  3628800\n"
          ]
        }
      ]
    },
    {
      "cell_type": "code",
      "source": [
        "for i in range(10,51):\n",
        "  if(i%3!=0):\n",
        "    print(i,end=\" \")"
      ],
      "metadata": {
        "colab": {
          "base_uri": "https://localhost:8080/"
        },
        "id": "Z3mwIhdljtNz",
        "outputId": "69db1d14-0d72-42b7-9bae-6621cc91db33"
      },
      "execution_count": null,
      "outputs": [
        {
          "output_type": "stream",
          "name": "stdout",
          "text": [
            "10 11 13 14 16 17 19 20 22 23 25 26 28 29 31 32 34 35 37 38 40 41 43 44 46 47 49 50 "
          ]
        }
      ]
    },
    {
      "cell_type": "code",
      "source": [
        "num=int(input(\"숫자 입력:\"))\n",
        "\n",
        "while num!=0:\n",
        "  print(num%10,end='')\n",
        "  num=num//10"
      ],
      "metadata": {
        "colab": {
          "base_uri": "https://localhost:8080/"
        },
        "id": "LUQq2om2kX1r",
        "outputId": "576325f5-89fc-49af-e6c7-873acb4e40bd"
      },
      "execution_count": null,
      "outputs": [
        {
          "output_type": "stream",
          "name": "stdout",
          "text": [
            "숫자 입력:10293\n",
            "39201"
          ]
        }
      ]
    },
    {
      "cell_type": "code",
      "source": [
        "for i in range(1,10):\n",
        "  print(\"2*\",i,\"=\",i*2)"
      ],
      "metadata": {
        "colab": {
          "base_uri": "https://localhost:8080/"
        },
        "id": "_awGFGaGu6QS",
        "outputId": "78dfda61-03e3-4486-a39a-4b65448b28a4"
      },
      "execution_count": null,
      "outputs": [
        {
          "output_type": "stream",
          "name": "stdout",
          "text": [
            "2* 1 = 2\n",
            "2* 2 = 4\n",
            "2* 3 = 6\n",
            "2* 4 = 8\n",
            "2* 5 = 10\n",
            "2* 6 = 12\n",
            "2* 7 = 14\n",
            "2* 8 = 16\n",
            "2* 9 = 18\n"
          ]
        }
      ]
    },
    {
      "cell_type": "code",
      "source": [
        "for i in range(9,0,-1):\n",
        "  print(\"2*\",i,\"=\",i*2)"
      ],
      "metadata": {
        "colab": {
          "base_uri": "https://localhost:8080/"
        },
        "id": "qTSb1saQvNtO",
        "outputId": "2be1c0df-e6a5-4271-e89c-57b0cfaf9da7"
      },
      "execution_count": null,
      "outputs": [
        {
          "output_type": "stream",
          "name": "stdout",
          "text": [
            "2* 9 = 18\n",
            "2* 8 = 16\n",
            "2* 7 = 14\n",
            "2* 6 = 12\n",
            "2* 5 = 10\n",
            "2* 4 = 8\n",
            "2* 3 = 6\n",
            "2* 2 = 4\n",
            "2* 1 = 2\n"
          ]
        }
      ]
    },
    {
      "cell_type": "code",
      "source": [
        "max=0\n",
        "a=0\n",
        "b=0\n",
        "\n",
        "for i in range(i,100):\n",
        "  j=100-i\n",
        "  current=i*j\n",
        "  if max<current:\n",
        "    max=current\n",
        "    a=i\n",
        "    b=j\n",
        "print(f\"최대가 되는 경우:{a}*{b}={max}\")    "
      ],
      "metadata": {
        "colab": {
          "base_uri": "https://localhost:8080/"
        },
        "id": "e1rFJOXIwAyU",
        "outputId": "f84037ee-ea4d-426a-d59a-562c5a640c78"
      },
      "execution_count": null,
      "outputs": [
        {
          "output_type": "stream",
          "name": "stdout",
          "text": [
            "최대가 되는 경우:50*50=2500\n"
          ]
        }
      ]
    },
    {
      "cell_type": "code",
      "source": [
        "a=int(input(\"정수를 입력하시오:\"))\n",
        "for i in range(1,a+1):\n",
        "  if a%i==0:\n",
        "    print(i,end=\" \")"
      ],
      "metadata": {
        "colab": {
          "base_uri": "https://localhost:8080/"
        },
        "id": "j9njOAZVxcxo",
        "outputId": "f105db00-4faf-4238-cf21-cca64cecdf05"
      },
      "execution_count": null,
      "outputs": [
        {
          "output_type": "stream",
          "name": "stdout",
          "text": [
            "정수를 입력하시오:6\n",
            "1 2 3 6 "
          ]
        }
      ]
    },
    {
      "cell_type": "code",
      "source": [
        "a=int(input(\"입력할 숫자 개수:\"))\n",
        "max=0\n",
        "for i in range(a):\n",
        "  num=int(input(\"숫자 입력:\"))\n",
        "  if num>max:\n",
        "    max=num\n",
        "    maxi=i+1\n",
        "print(\"가장 큰 수는 %d번째 수입니다.\"%(maxi))    "
      ],
      "metadata": {
        "colab": {
          "base_uri": "https://localhost:8080/"
        },
        "id": "HJtiKlhOydn3",
        "outputId": "f49d6795-b063-4079-c021-1a9e5ceaeaf7"
      },
      "execution_count": null,
      "outputs": [
        {
          "output_type": "stream",
          "name": "stdout",
          "text": [
            "입력할 숫자 개수:5\n",
            "숫자 입력:20\n",
            "숫자 입력:8\n",
            "숫자 입력:123\n",
            "숫자 입력:45\n",
            "숫자 입력:11\n",
            "가장 큰 수는 3번째 수입니다.\n"
          ]
        }
      ]
    },
    {
      "cell_type": "code",
      "source": [
        "c=0\n",
        "for i in range(1,100):\n",
        "  if i%4==0:\n",
        "    print(i,end=\" \")\n",
        "    c+=1\n",
        "    if c%7==0:\n",
        "      print()"
      ],
      "metadata": {
        "colab": {
          "base_uri": "https://localhost:8080/"
        },
        "id": "Zi0sK8LDzRnW",
        "outputId": "81d1bb24-8dc7-4f25-d53f-659c5b39837e"
      },
      "execution_count": null,
      "outputs": [
        {
          "output_type": "stream",
          "name": "stdout",
          "text": [
            "4 8 12 16 20 24 28 \n",
            "32 36 40 44 48 52 56 \n",
            "60 64 68 72 76 80 84 \n",
            "88 92 96 "
          ]
        }
      ]
    },
    {
      "cell_type": "code",
      "source": [
        "a=int(input(\"숫자 입력:\"))\n",
        "c=0\n",
        "for i in range(1,a+1):\n",
        "  if i%10==1:\n",
        "    c+=1\n",
        "print(\"일의 자리가 1인 수는 %d개\"%(c))    "
      ],
      "metadata": {
        "id": "1eQd0uiKyQdG",
        "colab": {
          "base_uri": "https://localhost:8080/"
        },
        "outputId": "f7c8ec1f-9953-4dfe-845a-7c8656eadaec"
      },
      "execution_count": 41,
      "outputs": [
        {
          "output_type": "stream",
          "name": "stdout",
          "text": [
            "숫자 입력:51\n",
            "일의 자리가 1인 수는 6개\n"
          ]
        }
      ]
    },
    {
      "cell_type": "code",
      "source": [
        "print(\"3+4=?\")\n",
        "\n",
        "while True:\n",
        "  a=int(input(\"정답을 입력하시오:\"))\n",
        "  if a==7:\n",
        "    break\n",
        "print(\"참 잘했어요!\")    "
      ],
      "metadata": {
        "id": "Ci2_LJhh0uxQ",
        "colab": {
          "base_uri": "https://localhost:8080/"
        },
        "outputId": "37fae0ce-728b-4979-8346-43ec1ab7e7e3"
      },
      "execution_count": 42,
      "outputs": [
        {
          "output_type": "stream",
          "name": "stdout",
          "text": [
            "3+4=?\n",
            "정답을 입력하시오:54\n",
            "정답을 입력하시오:7\n",
            "참 잘했어요!\n"
          ]
        }
      ]
    },
    {
      "cell_type": "code",
      "source": [],
      "metadata": {
        "id": "FXwKQ_l8jjsV"
      },
      "execution_count": null,
      "outputs": []
    },
    {
      "cell_type": "code",
      "source": [],
      "metadata": {
        "id": "qUIMKC_Refjo"
      },
      "execution_count": null,
      "outputs": []
    }
  ]
}