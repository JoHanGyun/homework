{
  "nbformat": 4,
  "nbformat_minor": 0,
  "metadata": {
    "colab": {
      "provenance": [],
      "authorship_tag": "ABX9TyM1PgcE10A4FIHss4D+cIve",
      "include_colab_link": true
    },
    "kernelspec": {
      "name": "python3",
      "display_name": "Python 3"
    },
    "language_info": {
      "name": "python"
    }
  },
  "cells": [
    {
      "cell_type": "markdown",
      "metadata": {
        "id": "view-in-github",
        "colab_type": "text"
      },
      "source": [
        "<a href=\"https://colab.research.google.com/github/JoHanGyun/homework/blob/main/%EC%88%98%ED%96%89%EC%97%B0%EC%8A%B52.ipynb\" target=\"_parent\"><img src=\"https://colab.research.google.com/assets/colab-badge.svg\" alt=\"Open In Colab\"/></a>"
      ]
    },
    {
      "cell_type": "code",
      "execution_count": 1,
      "metadata": {
        "colab": {
          "base_uri": "https://localhost:8080/"
        },
        "id": "tzqrmU4CALgV",
        "outputId": "fd010a81-1aca-4b90-e643-27adeb94181f"
      },
      "outputs": [
        {
          "output_type": "stream",
          "name": "stdout",
          "text": [
            "첫 번째 수:10\n",
            "두 번째 수:20\n",
            "세 번째 수:30\n",
            "가장 큰 수는 30 입니다.\n"
          ]
        }
      ],
      "source": [
        "a=int(input(\"첫 번째 수:\"))\n",
        "b=int(input(\"두 번째 수:\"))\n",
        "c=int(input(\"세 번째 수:\"))\n",
        "if(a>b>c)or(a>b>c):\n",
        "  print(\"가장 큰 수는\",a,\"입니다.\")\n",
        "elif (b>a>c)or(b>c>a):\n",
        "   print(\"가장 큰 수는\",b,\"입니다.\")\n",
        "else:\n",
        "  print(\"가장 큰 수는\",c,\"입니다.\")"
      ]
    },
    {
      "cell_type": "code",
      "source": [
        "a=int(input(\"점수 입력:\"))\n",
        "if a>=90:\n",
        "  print(\"A등급입니다.\")\n",
        "elif a>=80:\n",
        "  print(\"B등급입니다.\")\n",
        "elif a>=70:\n",
        "  print(\"C등급입니다.\")  \n",
        "else:\n",
        "  print(\"F등급입니다.\") "
      ],
      "metadata": {
        "colab": {
          "base_uri": "https://localhost:8080/"
        },
        "id": "1sKFlwIyAQf5",
        "outputId": "9e6ab012-74ef-49b9-b71a-104be726f113"
      },
      "execution_count": 2,
      "outputs": [
        {
          "output_type": "stream",
          "name": "stdout",
          "text": [
            "점수 입력:90\n",
            "A등급입니다.\n"
          ]
        }
      ]
    },
    {
      "cell_type": "code",
      "source": [
        "a=int(input(\"숫자 입력:\"))\n",
        "if(a%3==0):\n",
        "  if(a%5==0):\n",
        "    print(\"3과5의 공배수\")\n",
        "  else:\n",
        "    print(\"3의 배수\")\n",
        "else:\n",
        "  print(\"3의 배수 아님\")       "
      ],
      "metadata": {
        "colab": {
          "base_uri": "https://localhost:8080/"
        },
        "id": "5lp8NpyKAXbx",
        "outputId": "ad86113a-6e40-4f8b-e5a9-3309e3d81574"
      },
      "execution_count": 3,
      "outputs": [
        {
          "output_type": "stream",
          "name": "stdout",
          "text": [
            "숫자 입력:10\n",
            "3의 배수 아님\n"
          ]
        }
      ]
    },
    {
      "cell_type": "code",
      "source": [
        "for i in range(1,20,2):\n",
        "  print(i,end=' ')       "
      ],
      "metadata": {
        "colab": {
          "base_uri": "https://localhost:8080/"
        },
        "id": "5SWE7YhDAa93",
        "outputId": "58be3418-8771-4273-8019-a7e687026ee4"
      },
      "execution_count": 4,
      "outputs": [
        {
          "output_type": "stream",
          "name": "stdout",
          "text": [
            "1 3 5 7 9 11 13 15 17 19 "
          ]
        }
      ]
    },
    {
      "cell_type": "code",
      "source": [
        "s=0\n",
        "for i in range(1,11):\n",
        "  s=s+i\n",
        "  print(\"num의 값:%d=> 합계:%d\"%(i,s))\n"
      ],
      "metadata": {
        "colab": {
          "base_uri": "https://localhost:8080/"
        },
        "id": "idPWuGgnAeOB",
        "outputId": "f401a4d1-1365-47e6-bf44-99cd83fe32d9"
      },
      "execution_count": 5,
      "outputs": [
        {
          "output_type": "stream",
          "name": "stdout",
          "text": [
            "num의 값:1=> 합계:1\n",
            "num의 값:2=> 합계:3\n",
            "num의 값:3=> 합계:6\n",
            "num의 값:4=> 합계:10\n",
            "num의 값:5=> 합계:15\n",
            "num의 값:6=> 합계:21\n",
            "num의 값:7=> 합계:28\n",
            "num의 값:8=> 합계:36\n",
            "num의 값:9=> 합계:45\n",
            "num의 값:10=> 합계:55\n"
          ]
        }
      ]
    },
    {
      "cell_type": "code",
      "source": [
        "n=int(input(\"숫자 입력\"))\n",
        "pact=1\n",
        "for i in range(1,n+1):\n",
        "  pact=pact*i\n",
        "print(\"%d!=%d\"%(i,pact))"
      ],
      "metadata": {
        "colab": {
          "base_uri": "https://localhost:8080/"
        },
        "id": "QQUV0wQbAgOh",
        "outputId": "7b8e76b5-dc7c-4be3-d053-01f4dd9f9494"
      },
      "execution_count": 6,
      "outputs": [
        {
          "output_type": "stream",
          "name": "stdout",
          "text": [
            "숫자 입력10\n",
            "10!=3628800\n"
          ]
        }
      ]
    },
    {
      "cell_type": "code",
      "source": [
        "import random\n",
        "cnt=0\n",
        "guess=0\n",
        "answer=random.randrange(1,100)\n",
        "print('1부터 100사이의 숫자 맞추기')\n",
        "print(answer)\n",
        "while guess!=answer:\n",
        "  guess=int(input('숫자를 맞춰 보세요:'))\n",
        "  cnt+=1\n",
        "  if guess>answer:\n",
        "    print(\"높음\")\n",
        "  elif guess<answer:\n",
        "    print(\"낮음\")\n",
        "\n",
        "print(\"축하합니다.\",\"시도횟수=\",cnt)"
      ],
      "metadata": {
        "colab": {
          "base_uri": "https://localhost:8080/"
        },
        "id": "hMyjG6RyAjL5",
        "outputId": "054b2b00-ceeb-44c4-a72c-e7686967f9cf"
      },
      "execution_count": 7,
      "outputs": [
        {
          "output_type": "stream",
          "name": "stdout",
          "text": [
            "1부터 100사이의 숫자 맞추기\n",
            "75\n",
            "숫자를 맞춰 보세요:75\n",
            "축하합니다. 시도횟수= 1\n"
          ]
        }
      ]
    },
    {
      "cell_type": "code",
      "source": [],
      "metadata": {
        "id": "UOuydKUlAnM4"
      },
      "execution_count": null,
      "outputs": []
    }
  ]
}