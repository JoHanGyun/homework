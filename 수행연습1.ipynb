{
  "nbformat": 4,
  "nbformat_minor": 0,
  "metadata": {
    "colab": {
      "provenance": [],
      "authorship_tag": "ABX9TyP0HvXTp9KrZGhpZf751FoN",
      "include_colab_link": true
    },
    "kernelspec": {
      "name": "python3",
      "display_name": "Python 3"
    },
    "language_info": {
      "name": "python"
    }
  },
  "cells": [
    {
      "cell_type": "markdown",
      "metadata": {
        "id": "view-in-github",
        "colab_type": "text"
      },
      "source": [
        "<a href=\"https://colab.research.google.com/github/JoHanGyun/homework/blob/main/%EC%88%98%ED%96%89%EC%97%B0%EC%8A%B51.ipynb\" target=\"_parent\"><img src=\"https://colab.research.google.com/assets/colab-badge.svg\" alt=\"Open In Colab\"/></a>"
      ]
    },
    {
      "cell_type": "code",
      "execution_count": 2,
      "metadata": {
        "colab": {
          "base_uri": "https://localhost:8080/"
        },
        "id": "qT9S--f4A0EK",
        "outputId": "c0ac0e0f-6baa-46c6-fb3a-96bf5686d456"
      },
      "outputs": [
        {
          "output_type": "stream",
          "name": "stdout",
          "text": [
            "I said \"Hello\"to you.\n",
            "Let`s go.\n"
          ]
        }
      ],
      "source": [
        "print('I said \"Hello\"to you.')\n",
        "print(\"Let`s go.\")"
      ]
    },
    {
      "cell_type": "code",
      "source": [
        "a=int(input(\"삼각형의 밑변 길이:\"))\n",
        "b=int(input(\"삼각형의 높이:\"))\n",
        "c=a*b*(1/2)\n",
        "print(\"삼각형의 면적은\",c)"
      ],
      "metadata": {
        "colab": {
          "base_uri": "https://localhost:8080/"
        },
        "id": "SnTZH6LiA9h-",
        "outputId": "4b5fe782-0f62-4bb6-f3bf-79f6194ec9c4"
      },
      "execution_count": 3,
      "outputs": [
        {
          "output_type": "stream",
          "name": "stdout",
          "text": [
            "삼각형의 밑변 길이:10\n",
            "삼각형의 높이:3\n",
            "삼각형의 면적은 15.0\n"
          ]
        }
      ]
    },
    {
      "cell_type": "code",
      "source": [
        "a=int(input(\"현재 시:\"))\n",
        "b=int(input(\"현재 분:\"))\n",
        "if (b+20>60)and(a<23):\n",
        "  a+=1\n",
        "  b=b-40\n",
        "  print(\"20분뒤에는\",a,\"시\",b,\"분 입니다.\")\n",
        "elif (b+20>60)and (a==23):\n",
        "  a=0\n",
        "  b=b-40\n",
        "  print(\"20분뒤에는\",a,\"시\",b,\"분 입니다.\")\n",
        "else:\n",
        "  b=b+20\n",
        "  print(\"20분뒤에는\",a,\"시\",b,\"분 입니다.\")"
      ],
      "metadata": {
        "colab": {
          "base_uri": "https://localhost:8080/"
        },
        "id": "qi1ymethA-FV",
        "outputId": "09449c01-7145-4c27-fb36-865a902645dc"
      },
      "execution_count": 5,
      "outputs": [
        {
          "output_type": "stream",
          "name": "stdout",
          "text": [
            "현재 시:16\n",
            "현재 분:55\n",
            "20분뒤에는 17 시 15 분 입니다.\n"
          ]
        }
      ]
    },
    {
      "cell_type": "code",
      "source": [
        "a=int(input(\"숫자 입력\"))\n",
        "if a>0:\n",
        "  print(a)\n",
        "else:\n",
        "  print(-a)"
      ],
      "metadata": {
        "colab": {
          "base_uri": "https://localhost:8080/"
        },
        "id": "ZbCdieqOBCtf",
        "outputId": "9e6cd351-8c59-4377-961e-9321a0817b1b"
      },
      "execution_count": 6,
      "outputs": [
        {
          "output_type": "stream",
          "name": "stdout",
          "text": [
            "숫자 입력-20\n",
            "20\n"
          ]
        }
      ]
    },
    {
      "cell_type": "code",
      "source": [
        "a=input(\"아이디를 입력하세요:\")\n",
        "b=int(input(\"회원 레벨을 입력하세요:\"))\n",
        "if (a=='admin')or (b==1):\n",
        "  print(\"관리자입니다.\")\n",
        "else:\n",
        "  print(\"관리자가 아닙니다.\")  "
      ],
      "metadata": {
        "colab": {
          "base_uri": "https://localhost:8080/"
        },
        "id": "ips8jEUEBDMN",
        "outputId": "c181154f-d105-4e48-f1e4-303b06013a8a"
      },
      "execution_count": 8,
      "outputs": [
        {
          "output_type": "stream",
          "name": "stdout",
          "text": [
            "아이디를 입력하세요:admin\n",
            "회원 레벨을 입력하세요:5\n",
            "관리자입니다.\n"
          ]
        }
      ]
    },
    {
      "cell_type": "code",
      "source": [
        "a=int(input(\"첫 번째 수:\"))\n",
        "b=int(input(\"두 번째 수:\"))\n",
        "c=int(input(\"세 번째 수:\"))\n",
        "if(a>b>c)or(a>b>c):\n",
        "  print(\"가장 큰 수는\",a,\"입니다.\")\n",
        "elif (b>a>c)or(b>c>a):\n",
        "   print(\"가장 큰 수는\",b,\"입니다.\")\n",
        "else:\n",
        "  print(\"가장 큰 수는\",c,\"입니다.\")"
      ],
      "metadata": {
        "colab": {
          "base_uri": "https://localhost:8080/"
        },
        "id": "tzwnHb50BYzO",
        "outputId": "0f49c78e-1fc2-4ad4-dcec-1d990a8237a3"
      },
      "execution_count": 9,
      "outputs": [
        {
          "output_type": "stream",
          "name": "stdout",
          "text": [
            "첫 번째 수:10\n",
            "두 번째 수:20\n",
            "세 번째 수:30\n",
            "가장 큰 수는 30 입니다.\n"
          ]
        }
      ]
    },
    {
      "cell_type": "code",
      "source": [
        "2"
      ],
      "metadata": {
        "id": "dwsIbqFZBbAW"
      },
      "execution_count": null,
      "outputs": []
    }
  ]
}